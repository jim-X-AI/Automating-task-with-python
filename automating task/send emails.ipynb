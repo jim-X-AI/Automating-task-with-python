{
 "cells": [
  {
   "cell_type": "code",
   "execution_count": null,
   "id": "f71a6121-8c26-48a8-9d66-ad66f84f97c6",
   "metadata": {},
   "outputs": [],
   "source": [
    "import smtplib\n",
    "\n",
    "# You need to know the email provider and their smtp servers\n",
    "smtpOBJ = smtplib.SMTP(\"smtp.gmail.com\", 587)\n",
    "\n",
    "type(smtpOBJ)"
   ]
  },
  {
   "cell_type": "code",
   "execution_count": null,
   "id": "946af192-db90-4183-8883-3d87461290d7",
   "metadata": {},
   "outputs": [],
   "source": [
    "# To establish connection\n",
    "smtpOBJ.ehlo()"
   ]
  },
  {
   "cell_type": "code",
   "execution_count": null,
   "id": "b83d3459-a332-4f52-9f09-3fded1809098",
   "metadata": {},
   "outputs": [],
   "source": [
    "# To enable encryption and put smtp connection in tls mode\n",
    "smtpOBJ.starttls()"
   ]
  },
  {
   "cell_type": "code",
   "execution_count": null,
   "id": "7c03ba3a",
   "metadata": {},
   "outputs": [],
   "source": [
    "# For security purposes\n",
    "import getpass\n",
    "email = getpass.getpass('Email:')\n",
    "password = getpass.getpass('Password:')"
   ]
  },
  {
   "cell_type": "code",
   "execution_count": null,
   "id": "eb8689ad-d98e-40d7-8fe1-00fbbc449c93",
   "metadata": {},
   "outputs": [],
   "source": [
    "# Login to the SMTP server\n",
    "\n",
    "email = input('Email:')\n",
    "\n",
    "password = input('Password:')\n",
    "\n",
    "smtpOBJ.login(email, password)\n",
    "\n"
   ]
  },
  {
   "cell_type": "code",
   "execution_count": null,
   "id": "eb2bf38a-970e-46ea-8a28-bbd57c8e2cc3",
   "metadata": {},
   "outputs": [],
   "source": [
    "email = 'Your Email Address'\n",
    "\n",
    "reciepent_mail = input('Reciepent Email:')\n",
    "\n",
    "subject = input('Message:')\n",
    "\n",
    "smtpOBJ.sendmail(email, reciepent_mail, subject)"
   ]
  },
  {
   "cell_type": "code",
   "execution_count": null,
   "id": "82fa69c0-0c41-4343-a09c-ffa08b99d335",
   "metadata": {},
   "outputs": [],
   "source": [
    "def send_mail():\n",
    "    email = 'Your Email Address'\n",
    "    reciepent_mail = input('Reciepent Email:')\n",
    "    subject = input('Message:')\n",
    "    smtpOBJ.sendmail(email, reciepent_mail, subject)\n",
    "    return None"
   ]
  },
  {
   "cell_type": "code",
   "execution_count": null,
   "id": "4a5a28b9-f7fa-4eff-a5cd-5168a64d807f",
   "metadata": {},
   "outputs": [],
   "source": [
    "send_mail()"
   ]
  },
  {
   "cell_type": "code",
   "execution_count": null,
   "id": "3b447d13-32ed-42c3-8d9c-410f00574cdc",
   "metadata": {},
   "outputs": [],
   "source": [
    "smtpOBJ.quit()"
   ]
  },
  {
   "cell_type": "code",
   "execution_count": null,
   "id": "7a1fb635-d3ba-4de1-b59a-3ab9c0fef865",
   "metadata": {},
   "outputs": [],
   "source": []
  }
 ],
 "metadata": {
  "kernelspec": {
   "display_name": "Python 3 (ipykernel)",
   "language": "python",
   "name": "python3"
  },
  "widgets": {
   "application/vnd.jupyter.widget-state+json": {
    "state": {},
    "version_major": 2,
    "version_minor": 0
   }
  }
 },
 "nbformat": 4,
 "nbformat_minor": 5
}
