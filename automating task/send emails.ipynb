{
 "cells": [
  {
   "cell_type": "code",
   "execution_count": 1,
   "id": "f71a6121-8c26-48a8-9d66-ad66f84f97c6",
   "metadata": {},
   "outputs": [
    {
     "data": {
      "text/plain": [
       "smtplib.SMTP"
      ]
     },
     "execution_count": 1,
     "metadata": {},
     "output_type": "execute_result"
    }
   ],
   "source": [
    "import smtplib\n",
    "\n",
    "# You need to know the email provider and their smtp servers\n",
    "smtpOBJ = smtplib.SMTP(\"smtp.gmail.com\", 587)\n",
    "''yexy fixi ilts rpru''\n",
    "type(smtpOBJ)"
   ]
  },
  {
   "cell_type": "code",
   "execution_count": 2,
   "id": "946af192-db90-4183-8883-3d87461290d7",
   "metadata": {},
   "outputs": [
    {
     "data": {
      "text/plain": [
       "(250,\n",
       " b'smtp.passthru\\nSIZE 35882577\\n8BITMIME\\nSTARTTLS\\nENHANCEDSTATUSCODES\\nSMTPUTF8')"
      ]
     },
     "execution_count": 2,
     "metadata": {},
     "output_type": "execute_result"
    }
   ],
   "source": [
    "# To establish connection\n",
    "smtpOBJ.ehlo()"
   ]
  },
  {
   "cell_type": "code",
   "execution_count": 3,
   "id": "b83d3459-a332-4f52-9f09-3fded1809098",
   "metadata": {},
   "outputs": [
    {
     "data": {
      "text/plain": [
       "(220, b'2.0.0 Ready to start TLS')"
      ]
     },
     "execution_count": 3,
     "metadata": {},
     "output_type": "execute_result"
    }
   ],
   "source": [
    "# To enable encryption and put smtp connection in tls mode\n",
    "smtpOBJ.starttls()"
   ]
  },
  {
   "cell_type": "code",
   "execution_count": 4,
   "id": "7c03ba3a",
   "metadata": {},
   "outputs": [],
   "source": [
    "# # For security purposes\n",
    "# import getpass\n",
    "# email = getpass.getpass('Email:')\n",
    "# password = getpass.getpass('Password:')\n"
   ]
  },
  {
   "cell_type": "code",
   "execution_count": 5,
   "id": "149a8fff-c475-4f14-9fa1-47ec986e7093",
   "metadata": {},
   "outputs": [],
   "source": [
    "import getpass\n",
    "def login_mail():\n",
    "    email = getpass.getpass('Email:')\n",
    "    password = getpass.getpass('Password:')\n",
    "    smtpOBJ.login(email, password)\n",
    "    print('You are now logged in')\n",
    "    return None"
   ]
  },
  {
   "cell_type": "code",
   "execution_count": 6,
   "id": "82fa69c0-0c41-4343-a09c-ffa08b99d335",
   "metadata": {},
   "outputs": [],
   "source": [
    "def send_mail():\n",
    "    email = getpass.getpass('Email:')\n",
    "    reciepent_mail = getpass.getpass('Reciepent Email:')\n",
    "    subject = getpass.getpass('Message:')\n",
    "    smtpOBJ.sendmail(email, reciepent_mail, subject)\n",
    "    print(f'Email sent to {reciepent_mail}')\n",
    "    return None"
   ]
  },
  {
   "cell_type": "code",
   "execution_count": 7,
   "id": "a4f6c0fa-4abf-4fa1-81c4-89c54ef4d14e",
   "metadata": {},
   "outputs": [
    {
     "name": "stdout",
     "output_type": "stream",
     "text": [
      "Email: ········\n",
      "Password: ········\n"
     ]
    },
    {
     "name": "stdout",
     "output_type": "stream",
     "text": [
      "You are now logged in\n"
     ]
    }
   ],
   "source": [
    "login_mail()"
   ]
  },
  {
   "cell_type": "code",
   "execution_count": 8,
   "id": "4a5a28b9-f7fa-4eff-a5cd-5168a64d807f",
   "metadata": {},
   "outputs": [
    {
     "name": "stdout",
     "output_type": "stream",
     "text": [
      "Email: ········\n",
      "Reciepent Email: ········\n",
      "Message: ········\n"
     ]
    },
    {
     "name": "stdout",
     "output_type": "stream",
     "text": [
      "Email sent to subomi.obans3@gmail.com\n"
     ]
    }
   ],
   "source": [
    "send_mail()"
   ]
  },
  {
   "cell_type": "code",
   "execution_count": null,
   "id": "3b447d13-32ed-42c3-8d9c-410f00574cdc",
   "metadata": {},
   "outputs": [],
   "source": [
    "# 'smtpOBJ.quit()' to quit the server"
   ]
  },
  {
   "cell_type": "code",
   "execution_count": null,
   "id": "7a1fb635-d3ba-4de1-b59a-3ab9c0fef865",
   "metadata": {},
   "outputs": [],
   "source": []
  }
 ],
 "metadata": {
  "kernelspec": {
   "display_name": "Python 3 (ipykernel)",
   "language": "python",
   "name": "python3"
  },
  "language_info": {
   "codemirror_mode": {
    "name": "ipython",
    "version": 3
   },
   "file_extension": ".py",
   "mimetype": "text/x-python",
   "name": "python",
   "nbconvert_exporter": "python",
   "pygments_lexer": "ipython3",
   "version": "3.11.7"
  },
  "widgets": {
   "application/vnd.jupyter.widget-state+json": {
    "state": {},
    "version_major": 2,
    "version_minor": 0
   }
  }
 },
 "nbformat": 4,
 "nbformat_minor": 5
}
