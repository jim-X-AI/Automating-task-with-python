{
 "cells": [
  {
   "cell_type": "code",
   "execution_count": 1,
   "id": "7c70e9e6-28c9-4e27-af13-641630da282e",
   "metadata": {},
   "outputs": [],
   "source": [
    "import imapclient\n",
    "\n",
    "imapclientOBJ = imapclient.IMAPClient('imap.gmail.com', ssl=True)\n"
   ]
  },
  {
   "cell_type": "code",
   "execution_count": 2,
   "id": "43147d1b-17a1-4f2f-90e8-9cdaad68439f",
   "metadata": {},
   "outputs": [],
   "source": [
    "import getpass\n",
    "def login():\n",
    "    email = getpass.getpass('Enter Your Email: ')\n",
    "    password = getpass.getpass('Enter Your secret Password: ')\n",
    "    imapclientOBJ.login(email, password)\n",
    "    print('You are sucessfully logged in')"
   ]
  },
  {
   "cell_type": "code",
   "execution_count": 4,
   "id": "a9e660f0-84ee-4f07-9b6a-f2db74026bd0",
   "metadata": {},
   "outputs": [
    {
     "name": "stdin",
     "output_type": "stream",
     "text": [
      "Enter Your Email:  ········\n",
      "Enter Your secret Password:  ········\n"
     ]
    },
    {
     "name": "stdout",
     "output_type": "stream",
     "text": [
      "You are sucessfully logged in\n"
     ]
    }
   ],
   "source": [
    "login()"
   ]
  },
  {
   "cell_type": "code",
   "execution_count": 5,
   "id": "c4a83498-5184-410a-be89-39515d6b9021",
   "metadata": {},
   "outputs": [
    {
     "data": {
      "text/plain": [
       "3757"
      ]
     },
     "execution_count": 5,
     "metadata": {},
     "output_type": "execute_result"
    }
   ],
   "source": [
    "imapclientOBJ.select_folder('INBOX', readonly=True)\n",
    "UIDs = imapclientOBJ.search(['SINCE', '03-Jul-2024'])\n",
    "UIDs[0]"
   ]
  },
  {
   "cell_type": "code",
   "execution_count": 6,
   "id": "3ee588bf-678f-4b99-8cdb-629b1da831b9",
   "metadata": {},
   "outputs": [],
   "source": [
    "raw_messages = imapclientOBJ.fetch(UIDs[0], ['BODY[]', 'FLAGS'] )"
   ]
  },
  {
   "cell_type": "code",
   "execution_count": null,
   "id": "56114305-ffb6-4ae3-922b-89f983123ddd",
   "metadata": {},
   "outputs": [],
   "source": [
    "raw_messages"
   ]
  },
  {
   "cell_type": "code",
   "execution_count": null,
   "id": "86a620bd-37fc-46b0-9a49-d1bb166ed63d",
   "metadata": {},
   "outputs": [],
   "source": []
  }
 ],
 "metadata": {
  "kernelspec": {
   "display_name": "Python 3 (ipykernel)",
   "language": "python",
   "name": "python3"
  },
  "language_info": {
   "codemirror_mode": {
    "name": "ipython",
    "version": 3
   },
   "file_extension": ".py",
   "mimetype": "text/x-python",
   "name": "python",
   "nbconvert_exporter": "python",
   "pygments_lexer": "ipython3",
   "version": "3.11.7"
  },
  "widgets": {
   "application/vnd.jupyter.widget-state+json": {
    "state": {},
    "version_major": 2,
    "version_minor": 0
   }
  }
 },
 "nbformat": 4,
 "nbformat_minor": 5
}
